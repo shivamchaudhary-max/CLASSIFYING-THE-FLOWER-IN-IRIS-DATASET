{
 "cells": [
  {
   "cell_type": "code",
   "execution_count": 1,
   "id": "1818a3c3",
   "metadata": {
    "execution": {
     "iopub.execute_input": "2022-01-21T07:55:34.544427Z",
     "iopub.status.busy": "2022-01-21T07:55:34.543273Z",
     "iopub.status.idle": "2022-01-21T07:55:35.727457Z",
     "shell.execute_reply": "2022-01-21T07:55:35.728107Z",
     "shell.execute_reply.started": "2022-01-21T07:46:47.967690Z"
    },
    "papermill": {
     "duration": 1.202444,
     "end_time": "2022-01-21T07:55:35.728417",
     "exception": false,
     "start_time": "2022-01-21T07:55:34.525973",
     "status": "completed"
    },
    "tags": []
   },
   "outputs": [],
   "source": [
    "import pandas as pd\n",
    "import numpy as np\n",
    "from sklearn.neighbors  import KNeighborsClassifier\n",
    "#from sklearn import metrics\n",
    "from sklearn import model_selection\n",
    "from sklearn.model_selection import train_test_split\n",
    "from sklearn.model_selection import StratifiedKFold\n",
    "from sklearn.model_selection import KFold\n",
    "import matplotlib.pyplot as plt"
   ]
  },
  {
   "cell_type": "code",
   "execution_count": 2,
   "id": "55f15147",
   "metadata": {
    "execution": {
     "iopub.execute_input": "2022-01-21T07:55:35.757815Z",
     "iopub.status.busy": "2022-01-21T07:55:35.757207Z",
     "iopub.status.idle": "2022-01-21T07:55:35.795075Z",
     "shell.execute_reply": "2022-01-21T07:55:35.794416Z",
     "shell.execute_reply.started": "2022-01-21T07:52:47.796536Z"
    },
    "papermill": {
     "duration": 0.053365,
     "end_time": "2022-01-21T07:55:35.795215",
     "exception": false,
     "start_time": "2022-01-21T07:55:35.741850",
     "status": "completed"
    },
    "tags": []
   },
   "outputs": [
    {
     "data": {
      "text/html": [
       "<div>\n",
       "<style scoped>\n",
       "    .dataframe tbody tr th:only-of-type {\n",
       "        vertical-align: middle;\n",
       "    }\n",
       "\n",
       "    .dataframe tbody tr th {\n",
       "        vertical-align: top;\n",
       "    }\n",
       "\n",
       "    .dataframe thead th {\n",
       "        text-align: right;\n",
       "    }\n",
       "</style>\n",
       "<table border=\"1\" class=\"dataframe\">\n",
       "  <thead>\n",
       "    <tr style=\"text-align: right;\">\n",
       "      <th></th>\n",
       "      <th>sepal_len</th>\n",
       "      <th>sepal_wdt</th>\n",
       "      <th>petal_len</th>\n",
       "      <th>petal_wdt</th>\n",
       "      <th>iris</th>\n",
       "    </tr>\n",
       "  </thead>\n",
       "  <tbody>\n",
       "    <tr>\n",
       "      <th>0</th>\n",
       "      <td>5.1</td>\n",
       "      <td>3.5</td>\n",
       "      <td>1.4</td>\n",
       "      <td>0.2</td>\n",
       "      <td>Iris-setosa</td>\n",
       "    </tr>\n",
       "    <tr>\n",
       "      <th>1</th>\n",
       "      <td>4.9</td>\n",
       "      <td>3.0</td>\n",
       "      <td>1.4</td>\n",
       "      <td>0.2</td>\n",
       "      <td>Iris-setosa</td>\n",
       "    </tr>\n",
       "    <tr>\n",
       "      <th>2</th>\n",
       "      <td>4.7</td>\n",
       "      <td>3.2</td>\n",
       "      <td>1.3</td>\n",
       "      <td>0.2</td>\n",
       "      <td>Iris-setosa</td>\n",
       "    </tr>\n",
       "    <tr>\n",
       "      <th>3</th>\n",
       "      <td>4.6</td>\n",
       "      <td>3.1</td>\n",
       "      <td>1.5</td>\n",
       "      <td>0.2</td>\n",
       "      <td>Iris-setosa</td>\n",
       "    </tr>\n",
       "    <tr>\n",
       "      <th>4</th>\n",
       "      <td>5.0</td>\n",
       "      <td>3.6</td>\n",
       "      <td>1.4</td>\n",
       "      <td>0.2</td>\n",
       "      <td>Iris-setosa</td>\n",
       "    </tr>\n",
       "  </tbody>\n",
       "</table>\n",
       "</div>"
      ],
      "text/plain": [
       "   sepal_len  sepal_wdt  petal_len  petal_wdt         iris\n",
       "0        5.1        3.5        1.4        0.2  Iris-setosa\n",
       "1        4.9        3.0        1.4        0.2  Iris-setosa\n",
       "2        4.7        3.2        1.3        0.2  Iris-setosa\n",
       "3        4.6        3.1        1.5        0.2  Iris-setosa\n",
       "4        5.0        3.6        1.4        0.2  Iris-setosa"
      ]
     },
     "execution_count": 2,
     "metadata": {},
     "output_type": "execute_result"
    }
   ],
   "source": [
    "data=pd.read_csv(\"../input/iris-data/iris.csv\")\n",
    "data.head()"
   ]
  },
  {
   "cell_type": "code",
   "execution_count": 3,
   "id": "173012f3",
   "metadata": {
    "execution": {
     "iopub.execute_input": "2022-01-21T07:55:35.832829Z",
     "iopub.status.busy": "2022-01-21T07:55:35.832169Z",
     "iopub.status.idle": "2022-01-21T07:55:35.834744Z",
     "shell.execute_reply": "2022-01-21T07:55:35.835246Z",
     "shell.execute_reply.started": "2022-01-21T07:52:51.177775Z"
    },
    "papermill": {
     "duration": 0.02644,
     "end_time": "2022-01-21T07:55:35.835417",
     "exception": false,
     "start_time": "2022-01-21T07:55:35.808977",
     "status": "completed"
    },
    "tags": []
   },
   "outputs": [
    {
     "data": {
      "text/plain": [
       "array(['Iris-setosa', 'Iris-setosa', 'Iris-setosa', 'Iris-setosa',\n",
       "       'Iris-setosa', 'Iris-setosa', 'Iris-setosa', 'Iris-setosa',\n",
       "       'Iris-setosa', 'Iris-setosa', 'Iris-setosa', 'Iris-setosa',\n",
       "       'Iris-setosa', 'Iris-setosa', 'Iris-setosa', 'Iris-setosa',\n",
       "       'Iris-setosa', 'Iris-setosa', 'Iris-setosa', 'Iris-setosa',\n",
       "       'Iris-setosa', 'Iris-setosa', 'Iris-setosa', 'Iris-setosa',\n",
       "       'Iris-setosa', 'Iris-setosa', 'Iris-setosa', 'Iris-setosa',\n",
       "       'Iris-setosa', 'Iris-setosa', 'Iris-setosa', 'Iris-setosa',\n",
       "       'Iris-setosa', 'Iris-setosa', 'Iris-setosa', 'Iris-setosa',\n",
       "       'Iris-setosa', 'Iris-setosa', 'Iris-setosa', 'Iris-setosa',\n",
       "       'Iris-setosa', 'Iris-setosa', 'Iris-setosa', 'Iris-setosa',\n",
       "       'Iris-setosa', 'Iris-setosa', 'Iris-setosa', 'Iris-setosa',\n",
       "       'Iris-setosa', 'Iris-setosa', 'Iris-versicolor', 'Iris-versicolor',\n",
       "       'Iris-versicolor', 'Iris-versicolor', 'Iris-versicolor',\n",
       "       'Iris-versicolor', 'Iris-versicolor', 'Iris-versicolor',\n",
       "       'Iris-versicolor', 'Iris-versicolor', 'Iris-versicolor',\n",
       "       'Iris-versicolor', 'Iris-versicolor', 'Iris-versicolor',\n",
       "       'Iris-versicolor', 'Iris-versicolor', 'Iris-versicolor',\n",
       "       'Iris-versicolor', 'Iris-versicolor', 'Iris-versicolor',\n",
       "       'Iris-versicolor', 'Iris-versicolor', 'Iris-versicolor',\n",
       "       'Iris-versicolor', 'Iris-versicolor', 'Iris-versicolor',\n",
       "       'Iris-versicolor', 'Iris-versicolor', 'Iris-versicolor',\n",
       "       'Iris-versicolor', 'Iris-versicolor', 'Iris-versicolor',\n",
       "       'Iris-versicolor', 'Iris-versicolor', 'Iris-versicolor',\n",
       "       'Iris-versicolor', 'Iris-versicolor', 'Iris-versicolor',\n",
       "       'Iris-versicolor', 'Iris-versicolor', 'Iris-versicolor',\n",
       "       'Iris-versicolor', 'Iris-versicolor', 'Iris-versicolor',\n",
       "       'Iris-versicolor', 'Iris-versicolor', 'Iris-versicolor',\n",
       "       'Iris-versicolor', 'Iris-versicolor', 'Iris-versicolor',\n",
       "       'Iris-virginica', 'Iris-virginica', 'Iris-virginica',\n",
       "       'Iris-virginica', 'Iris-virginica', 'Iris-virginica',\n",
       "       'Iris-virginica', 'Iris-virginica', 'Iris-virginica',\n",
       "       'Iris-virginica', 'Iris-virginica', 'Iris-virginica',\n",
       "       'Iris-virginica', 'Iris-virginica', 'Iris-virginica',\n",
       "       'Iris-virginica', 'Iris-virginica', 'Iris-virginica',\n",
       "       'Iris-virginica', 'Iris-virginica', 'Iris-virginica',\n",
       "       'Iris-virginica', 'Iris-virginica', 'Iris-virginica',\n",
       "       'Iris-virginica', 'Iris-virginica', 'Iris-virginica',\n",
       "       'Iris-virginica', 'Iris-virginica', 'Iris-virginica',\n",
       "       'Iris-virginica', 'Iris-virginica', 'Iris-virginica',\n",
       "       'Iris-virginica', 'Iris-virginica', 'Iris-virginica',\n",
       "       'Iris-virginica', 'Iris-virginica', 'Iris-virginica',\n",
       "       'Iris-virginica', 'Iris-virginica', 'Iris-virginica',\n",
       "       'Iris-virginica', 'Iris-virginica', 'Iris-virginica',\n",
       "       'Iris-virginica', 'Iris-virginica', 'Iris-virginica',\n",
       "       'Iris-virginica', 'Iris-virginica'], dtype=object)"
      ]
     },
     "execution_count": 3,
     "metadata": {},
     "output_type": "execute_result"
    }
   ],
   "source": [
    "iris_data=data.iloc[:,0:4].values\n",
    "target=data.iloc[:,4].values\n",
    "target"
   ]
  },
  {
   "cell_type": "code",
   "execution_count": 4,
   "id": "5fada054",
   "metadata": {
    "execution": {
     "iopub.execute_input": "2022-01-21T07:55:35.866532Z",
     "iopub.status.busy": "2022-01-21T07:55:35.865831Z",
     "iopub.status.idle": "2022-01-21T07:55:35.871941Z",
     "shell.execute_reply": "2022-01-21T07:55:35.872637Z",
     "shell.execute_reply.started": "2022-01-21T07:53:01.749963Z"
    },
    "papermill": {
     "duration": 0.023665,
     "end_time": "2022-01-21T07:55:35.872865",
     "exception": false,
     "start_time": "2022-01-21T07:55:35.849200",
     "status": "completed"
    },
    "tags": []
   },
   "outputs": [
    {
     "name": "stdout",
     "output_type": "stream",
     "text": [
      "[0 0 0 0 0 0 0 0 0 0 0 0 0 0 0 0 0 0 0 0 0 0 0 0 0 0 0 0 0 0 0 0 0 0 0 0 0\n",
      " 0 0 0 0 0 0 0 0 0 0 0 0 0 1 1 1 1 1 1 1 1 1 1 1 1 1 1 1 1 1 1 1 1 1 1 1 1\n",
      " 1 1 1 1 1 1 1 1 1 1 1 1 1 1 1 1 1 1 1 1 1 1 1 1 1 1 2 2 2 2 2 2 2 2 2 2 2\n",
      " 2 2 2 2 2 2 2 2 2 2 2 2 2 2 2 2 2 2 2 2 2 2 2 2 2 2 2 2 2 2 2 2 2 2 2 2 2\n",
      " 2 2]\n"
     ]
    }
   ],
   "source": [
    "from sklearn import preprocessing\n",
    "#creating labelEncoder\n",
    "le = preprocessing.LabelEncoder()\n",
    "\n",
    "# Converting string labels into numbers.\n",
    "y=le.fit_transform(target)\n",
    "print(y)\n"
   ]
  },
  {
   "cell_type": "code",
   "execution_count": 5,
   "id": "b8e0de5f",
   "metadata": {
    "execution": {
     "iopub.execute_input": "2022-01-21T07:55:35.910252Z",
     "iopub.status.busy": "2022-01-21T07:55:35.909289Z",
     "iopub.status.idle": "2022-01-21T07:55:35.911952Z",
     "shell.execute_reply": "2022-01-21T07:55:35.911475Z",
     "shell.execute_reply.started": "2022-01-21T07:53:05.655644Z"
    },
    "papermill": {
     "duration": 0.024289,
     "end_time": "2022-01-21T07:55:35.912118",
     "exception": false,
     "start_time": "2022-01-21T07:55:35.887829",
     "status": "completed"
    },
    "tags": []
   },
   "outputs": [],
   "source": [
    "X_train,X_test,y_train,y_test = train_test_split(iris_data,y,test_size=0.4,random_state=0)"
   ]
  },
  {
   "cell_type": "code",
   "execution_count": 6,
   "id": "0ba32b8e",
   "metadata": {
    "execution": {
     "iopub.execute_input": "2022-01-21T07:55:35.944173Z",
     "iopub.status.busy": "2022-01-21T07:55:35.943475Z",
     "iopub.status.idle": "2022-01-21T07:55:35.948324Z",
     "shell.execute_reply": "2022-01-21T07:55:35.947769Z",
     "shell.execute_reply.started": "2022-01-21T07:53:07.843608Z"
    },
    "papermill": {
     "duration": 0.022181,
     "end_time": "2022-01-21T07:55:35.948466",
     "exception": false,
     "start_time": "2022-01-21T07:55:35.926285",
     "status": "completed"
    },
    "tags": []
   },
   "outputs": [],
   "source": [
    "#Setup arrays to store training and test accuracies\n",
    "neighbors = np.arange(1,9)\n",
    "neighbors\n",
    "train_accuracy =np.empty(len(neighbors))\n",
    "test_accuracy = np.empty(len(neighbors))\n"
   ]
  },
  {
   "cell_type": "code",
   "execution_count": 7,
   "id": "8c51033c",
   "metadata": {
    "execution": {
     "iopub.execute_input": "2022-01-21T07:55:35.986550Z",
     "iopub.status.busy": "2022-01-21T07:55:35.980346Z",
     "iopub.status.idle": "2022-01-21T07:55:36.050553Z",
     "shell.execute_reply": "2022-01-21T07:55:36.049801Z",
     "shell.execute_reply.started": "2022-01-21T07:53:12.524134Z"
    },
    "papermill": {
     "duration": 0.087974,
     "end_time": "2022-01-21T07:55:36.050700",
     "exception": false,
     "start_time": "2022-01-21T07:55:35.962726",
     "status": "completed"
    },
    "tags": []
   },
   "outputs": [],
   "source": [
    "for i,k in enumerate(neighbors):\n",
    "    #Setup a knn classifier with k neighbors\n",
    "    knn = KNeighborsClassifier(n_neighbors=k)\n",
    "    \n",
    "    #Fit the model\n",
    "    knn.fit(X_train, y_train)\n",
    "    \n",
    "    #Compute accuracy on the training set\n",
    "    train_accuracy[i] = knn.score(X_train, y_train)\n",
    "    \n",
    "    #Compute accuracy on the test set\n",
    "    test_accuracy[i] = knn.score(X_test, y_test)\n",
    "    "
   ]
  },
  {
   "cell_type": "code",
   "execution_count": 8,
   "id": "f4842610",
   "metadata": {
    "execution": {
     "iopub.execute_input": "2022-01-21T07:55:36.089556Z",
     "iopub.status.busy": "2022-01-21T07:55:36.088778Z",
     "iopub.status.idle": "2022-01-21T07:55:36.342124Z",
     "shell.execute_reply": "2022-01-21T07:55:36.341147Z",
     "shell.execute_reply.started": "2022-01-21T07:53:48.495262Z"
    },
    "papermill": {
     "duration": 0.276564,
     "end_time": "2022-01-21T07:55:36.342281",
     "exception": false,
     "start_time": "2022-01-21T07:55:36.065717",
     "status": "completed"
    },
    "tags": []
   },
   "outputs": [
    {
     "data": {
      "image/png": "[encoded data removed]",
      "text/plain": [
       "<Figure size 432x288 with 1 Axes>"
      ]
     },
     "metadata": {
      "needs_background": "light"
     },
     "output_type": "display_data"
    }
   ],
   "source": [
    "#Generate plot\n",
    "plt.title('k-NN Varying number of neighbors')\n",
    "plt.plot(neighbors, test_accuracy, label='Testing Accuracy')\n",
    "plt.plot(neighbors, train_accuracy, label='Training accuracy')\n",
    "plt.legend()\n",
    "plt.xlabel('Number of neighbors')\n",
    "plt.ylabel('Accuracy')\n",
    "plt.show()"
   ]
  },
  {
   "cell_type": "code",
   "execution_count": 9,
   "id": "08021a05",
   "metadata": {
    "execution": {
     "iopub.execute_input": "2022-01-21T07:55:36.376325Z",
     "iopub.status.busy": "2022-01-21T07:55:36.375661Z",
     "iopub.status.idle": "2022-01-21T07:55:36.382767Z",
     "shell.execute_reply": "2022-01-21T07:55:36.383351Z",
     "shell.execute_reply.started": "2022-01-21T07:54:03.163169Z"
    },
    "papermill": {
     "duration": 0.025719,
     "end_time": "2022-01-21T07:55:36.383536",
     "exception": false,
     "start_time": "2022-01-21T07:55:36.357817",
     "status": "completed"
    },
    "tags": []
   },
   "outputs": [
    {
     "data": {
      "text/plain": [
       "KNeighborsClassifier(n_neighbors=7)"
      ]
     },
     "execution_count": 9,
     "metadata": {},
     "output_type": "execute_result"
    }
   ],
   "source": [
    "#Setup a knn classifier with k neighbors\n",
    "knn = KNeighborsClassifier(n_neighbors=7)\n",
    "#Fit the model\n",
    "knn.fit(X_train,y_train)"
   ]
  },
  {
   "cell_type": "code",
   "execution_count": 10,
   "id": "8467c96b",
   "metadata": {
    "execution": {
     "iopub.execute_input": "2022-01-21T07:55:36.418901Z",
     "iopub.status.busy": "2022-01-21T07:55:36.417963Z",
     "iopub.status.idle": "2022-01-21T07:55:36.426530Z",
     "shell.execute_reply": "2022-01-21T07:55:36.427109Z",
     "shell.execute_reply.started": "2022-01-21T07:54:12.614078Z"
    },
    "papermill": {
     "duration": 0.028075,
     "end_time": "2022-01-21T07:55:36.427270",
     "exception": false,
     "start_time": "2022-01-21T07:55:36.399195",
     "status": "completed"
    },
    "tags": []
   },
   "outputs": [
    {
     "data": {
      "text/plain": [
       "0.9666666666666667"
      ]
     },
     "execution_count": 10,
     "metadata": {},
     "output_type": "execute_result"
    }
   ],
   "source": [
    "#Get accuracy. Note: In case of classification algorithms score method represents accuracy.\n",
    "knn.score(X_test,y_test)"
   ]
  },
  {
   "cell_type": "code",
   "execution_count": 11,
   "id": "659a762c",
   "metadata": {
    "execution": {
     "iopub.execute_input": "2022-01-21T07:55:36.462138Z",
     "iopub.status.busy": "2022-01-21T07:55:36.461466Z",
     "iopub.status.idle": "2022-01-21T07:55:36.472338Z",
     "shell.execute_reply": "2022-01-21T07:55:36.472923Z",
     "shell.execute_reply.started": "2022-01-21T07:54:29.075516Z"
    },
    "papermill": {
     "duration": 0.030154,
     "end_time": "2022-01-21T07:55:36.473109",
     "exception": false,
     "start_time": "2022-01-21T07:55:36.442955",
     "status": "completed"
    },
    "tags": []
   },
   "outputs": [
    {
     "data": {
      "text/plain": [
       "array([[16,  0,  0],\n",
       "       [ 0, 22,  1],\n",
       "       [ 0,  1, 20]])"
      ]
     },
     "execution_count": 11,
     "metadata": {},
     "output_type": "execute_result"
    }
   ],
   "source": [
    "#import confusion_matrix\n",
    "from sklearn.metrics import confusion_matrix\n",
    "#let us get the predictions using the classifier we had fit above\n",
    "y_pred = knn.predict(X_test)\n",
    "confusion_matrix(y_test,y_pred)"
   ]
  },
  {
   "cell_type": "code",
   "execution_count": 12,
   "id": "b03d4104",
   "metadata": {
    "execution": {
     "iopub.execute_input": "2022-01-21T07:55:36.508936Z",
     "iopub.status.busy": "2022-01-21T07:55:36.508334Z",
     "iopub.status.idle": "2022-01-21T07:55:36.564598Z",
     "shell.execute_reply": "2022-01-21T07:55:36.563913Z",
     "shell.execute_reply.started": "2022-01-21T07:54:40.408153Z"
    },
    "papermill": {
     "duration": 0.075394,
     "end_time": "2022-01-21T07:55:36.564741",
     "exception": false,
     "start_time": "2022-01-21T07:55:36.489347",
     "status": "completed"
    },
    "tags": []
   },
   "outputs": [
    {
     "data": {
      "text/html": [
       "<div>\n",
       "<style scoped>\n",
       "    .dataframe tbody tr th:only-of-type {\n",
       "        vertical-align: middle;\n",
       "    }\n",
       "\n",
       "    .dataframe tbody tr th {\n",
       "        vertical-align: top;\n",
       "    }\n",
       "\n",
       "    .dataframe thead th {\n",
       "        text-align: right;\n",
       "    }\n",
       "</style>\n",
       "<table border=\"1\" class=\"dataframe\">\n",
       "  <thead>\n",
       "    <tr style=\"text-align: right;\">\n",
       "      <th>Predicted</th>\n",
       "      <th>0</th>\n",
       "      <th>1</th>\n",
       "      <th>2</th>\n",
       "      <th>All</th>\n",
       "    </tr>\n",
       "    <tr>\n",
       "      <th>True</th>\n",
       "      <th></th>\n",
       "      <th></th>\n",
       "      <th></th>\n",
       "      <th></th>\n",
       "    </tr>\n",
       "  </thead>\n",
       "  <tbody>\n",
       "    <tr>\n",
       "      <th>0</th>\n",
       "      <td>16</td>\n",
       "      <td>0</td>\n",
       "      <td>0</td>\n",
       "      <td>16</td>\n",
       "    </tr>\n",
       "    <tr>\n",
       "      <th>1</th>\n",
       "      <td>0</td>\n",
       "      <td>22</td>\n",
       "      <td>1</td>\n",
       "      <td>23</td>\n",
       "    </tr>\n",
       "    <tr>\n",
       "      <th>2</th>\n",
       "      <td>0</td>\n",
       "      <td>1</td>\n",
       "      <td>20</td>\n",
       "      <td>21</td>\n",
       "    </tr>\n",
       "    <tr>\n",
       "      <th>All</th>\n",
       "      <td>16</td>\n",
       "      <td>23</td>\n",
       "      <td>21</td>\n",
       "      <td>60</td>\n",
       "    </tr>\n",
       "  </tbody>\n",
       "</table>\n",
       "</div>"
      ],
      "text/plain": [
       "Predicted   0   1   2  All\n",
       "True                      \n",
       "0          16   0   0   16\n",
       "1           0  22   1   23\n",
       "2           0   1  20   21\n",
       "All        16  23  21   60"
      ]
     },
     "execution_count": 12,
     "metadata": {},
     "output_type": "execute_result"
    }
   ],
   "source": [
    "\n",
    "#Confusion matrix can also be obtained using crosstab method of pandas.\n",
    "pd.crosstab(y_test, y_pred, rownames=['True'], colnames=['Predicted'], margins=True)"
   ]
  },
  {
   "cell_type": "code",
   "execution_count": 13,
   "id": "d3f3e709",
   "metadata": {
    "execution": {
     "iopub.execute_input": "2022-01-21T07:55:36.608124Z",
     "iopub.status.busy": "2022-01-21T07:55:36.607414Z",
     "iopub.status.idle": "2022-01-21T07:55:36.634666Z",
     "shell.execute_reply": "2022-01-21T07:55:36.635177Z",
     "shell.execute_reply.started": "2022-01-21T07:54:56.529955Z"
    },
    "papermill": {
     "duration": 0.053797,
     "end_time": "2022-01-21T07:55:36.635366",
     "exception": false,
     "start_time": "2022-01-21T07:55:36.581569",
     "status": "completed"
    },
    "tags": []
   },
   "outputs": [
    {
     "name": "stdout",
     "output_type": "stream",
     "text": [
      "Accuracy: 93.33%\n"
     ]
    }
   ],
   "source": [
    "kfold = KFold(n_splits=10)\n",
    "kfold_model=KNeighborsClassifier(n_neighbors=7)\n",
    "results_kfold = model_selection.cross_val_score(kfold_model, iris_data,target, cv=kfold)\n",
    "print(\"Accuracy: %.2f%%\" % (results_kfold.mean()*100.0)) "
   ]
  },
  {
   "cell_type": "code",
   "execution_count": 14,
   "id": "020b215d",
   "metadata": {
    "execution": {
     "iopub.execute_input": "2022-01-21T07:55:36.673321Z",
     "iopub.status.busy": "2022-01-21T07:55:36.672355Z",
     "iopub.status.idle": "2022-01-21T07:55:36.693176Z",
     "shell.execute_reply": "2022-01-21T07:55:36.693707Z",
     "shell.execute_reply.started": "2022-01-21T07:55:07.903215Z"
    },
    "papermill": {
     "duration": 0.041342,
     "end_time": "2022-01-21T07:55:36.693874",
     "exception": false,
     "start_time": "2022-01-21T07:55:36.652532",
     "status": "completed"
    },
    "tags": []
   },
   "outputs": [
    {
     "name": "stdout",
     "output_type": "stream",
     "text": [
      "Accuracy: 97.33%\n"
     ]
    }
   ],
   "source": [
    "skfold = StratifiedKFold(n_splits=3)\n",
    "model_skfold = KNeighborsClassifier(n_neighbors=7)\n",
    "results_skfold = model_selection.cross_val_score(model_skfold,iris_data,target, cv=skfold)\n",
    "print(\"Accuracy: %.2f%%\" % (results_skfold.mean()*100.0))"
   ]
  },
  {
   "cell_type": "code",
   "execution_count": null,
   "id": "d467847c",
   "metadata": {
    "papermill": {
     "duration": 0.01695,
     "end_time": "2022-01-21T07:55:36.728519",
     "exception": false,
     "start_time": "2022-01-21T07:55:36.711569",
     "status": "completed"
    },
    "tags": []
   },
   "outputs": [],
   "source": []
  }
 ],
 "metadata": {
  "kernelspec": {
   "display_name": "Python 3",
   "language": "python",
   "name": "python3"
  },
  "language_info": {
   "codemirror_mode": {
    "name": "ipython",
    "version": 3
   },
   "file_extension": ".py",
   "mimetype": "text/x-python",
   "name": "python",
   "nbconvert_exporter": "python",
   "pygments_lexer": "ipython3",
   "version": "3.7.12"
  },
  "papermill": {
   "default_parameters": {},
   "duration": 12.855179,
   "end_time": "2022-01-21T07:55:37.455248",
   "environment_variables": {},
   "exception": null,
   "input_path": "__notebook__.ipynb",
   "output_path": "__notebook__.ipynb",
   "parameters": {},
   "start_time": "2022-01-21T07:55:24.600069",
   "version": "2.3.3"
  }
 },
 "nbformat": 4,
 "nbformat_minor": 5
}
